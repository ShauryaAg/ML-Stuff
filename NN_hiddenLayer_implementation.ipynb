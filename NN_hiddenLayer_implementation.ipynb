{
 "cells": [
  {
   "cell_type": "code",
   "execution_count": 1,
   "metadata": {},
   "outputs": [],
   "source": [
    "import numpy as np"
   ]
  },
  {
   "cell_type": "code",
   "execution_count": 2,
   "metadata": {},
   "outputs": [
    {
     "data": {
      "text/plain": [
       "((4, 2), (4, 1))"
      ]
     },
     "execution_count": 2,
     "metadata": {},
     "output_type": "execute_result"
    }
   ],
   "source": [
    "x = np.array([[0, 0], [0, 1], [1, 0], [1, 1]])\n",
    "y = np.array([[0], [1], [1], [0]])\n",
    "\n",
    "x.shape, y.shape"
   ]
  },
  {
   "cell_type": "code",
   "execution_count": 3,
   "metadata": {},
   "outputs": [],
   "source": [
    "def derivative_sig(z):\n",
    "    return sigmoid(z)*(1-sigmoid(z))"
   ]
  },
  {
   "cell_type": "code",
   "execution_count": 4,
   "metadata": {},
   "outputs": [],
   "source": [
    "def sigmoid(z):\n",
    "    return 1/(1 + np.exp(-z))"
   ]
  },
  {
   "cell_type": "code",
   "execution_count": 7,
   "metadata": {},
   "outputs": [],
   "source": [
    "wh = 2 * np.random.random((2, 2)) - 1\n",
    "bh = 2 * np.random.random((1, 2)) - 1\n",
    "\n",
    "wo = 2 * np.random.random((2, 1)) - 1\n",
    "bo = 2 * np.random.random((1, 1)) - 1\n",
    "\n",
    "lr = 0.1"
   ]
  },
  {
   "cell_type": "code",
   "execution_count": 8,
   "metadata": {},
   "outputs": [
    {
     "name": "stdout",
     "output_type": "stream",
     "text": [
      "output: [[0.05860442]\n",
      " [0.93845364]\n",
      " [0.93927134]\n",
      " [0.07595305]],\n",
      " wh: [[-5.0938114  -4.85088962]\n",
      " [-6.18773313 -5.70203664]],\n",
      " bh: [[2.32499538 8.18474602]],\n",
      " wo: [[-6.73074901]\n",
      " [ 6.40248097]],\n",
      " bo: [[-3.04603427]]\n"
     ]
    }
   ],
   "source": [
    "for iter in range(10000):\n",
    "    output0 = x\n",
    "    inputHidden = (np.dot(output0, wh) + bh)\n",
    "    outputHidden = sigmoid(inputHidden)\n",
    "    input_for_output_layer = (np.dot(outputHidden, wo) + bo)\n",
    "    output = sigmoid(input_for_output_layer)\n",
    "\n",
    "    first_term_output_layer = output - y\n",
    "    second_term_output_layer = derivative_sig(input_for_output_layer)\n",
    "    first_two_output_layer = first_term_output_layer * second_term_output_layer\n",
    "\n",
    "    first_term_hidden_layer = np.dot(first_term_output_layer, wo.T)\n",
    "    second_term_hidden_layer = derivative_sig(inputHidden)\n",
    "    first_two_hidden_layer = first_term_hidden_layer * second_term_hidden_layer\n",
    "\n",
    "    changes_output = np.dot(outputHidden.T, first_two_output_layer)\n",
    "    changes_output_bias = np.sum(first_two_output_layer, axis=0, keepdims=True)\n",
    "\n",
    "    changes_hidden = np.dot(output0.T, first_two_output_layer)\n",
    "    changes_hidden_bias = np.sum(first_two_hidden_layer, axis=0, keepdims=True)\n",
    "\n",
    "    wo = wo - lr*changes_output\n",
    "    bo = bo - lr*changes_output_bias\n",
    "\n",
    "    wh = wh - lr*changes_hidden\n",
    "    bh = bh - lr*changes_hidden_bias\n",
    "    \n",
    "output0 = x\n",
    "inputHidden = np.dot(output0, wh) + bh\n",
    "outputHidden = sigmoid(inputHidden)\n",
    "input_for_output_layer = np.dot(outputHidden, wo) + bo\n",
    "output = sigmoid(input_for_output_layer)\n",
    "\n",
    "print(f\"output: {output},\\n wh: {wh},\\n bh: {bh},\\n wo: {wo},\\n bo: {bo}\")"
   ]
  },
  {
   "cell_type": "code",
   "execution_count": null,
   "metadata": {},
   "outputs": [],
   "source": []
  }
 ],
 "metadata": {
  "kernelspec": {
   "display_name": "Python 3",
   "language": "python",
   "name": "python3"
  },
  "language_info": {
   "codemirror_mode": {
    "name": "ipython",
    "version": 3
   },
   "file_extension": ".py",
   "mimetype": "text/x-python",
   "name": "python",
   "nbconvert_exporter": "python",
   "pygments_lexer": "ipython3",
   "version": "3.7.4"
  }
 },
 "nbformat": 4,
 "nbformat_minor": 4
}
