{
 "cells": [
  {
   "cell_type": "code",
   "execution_count": 1,
   "metadata": {},
   "outputs": [],
   "source": [
    "import numpy as np"
   ]
  },
  {
   "cell_type": "code",
   "execution_count": 2,
   "metadata": {},
   "outputs": [
    {
     "data": {
      "text/plain": [
       "((4, 2), (4, 1))"
      ]
     },
     "execution_count": 2,
     "metadata": {},
     "output_type": "execute_result"
    }
   ],
   "source": [
    "x = np.array([[0, 0], [0, 1], [1, 0], [1, 1]])\n",
    "y = np.array([[0], [0], [0], [1]])\n",
    "\n",
    "x.shape, y.shape"
   ]
  },
  {
   "cell_type": "code",
   "execution_count": 3,
   "metadata": {},
   "outputs": [],
   "source": [
    "def derivative_sig(z):\n",
    "    return sigmoid(z)*(1-sigmoid(z))"
   ]
  },
  {
   "cell_type": "code",
   "execution_count": 4,
   "metadata": {},
   "outputs": [],
   "source": [
    "def sigmoid(z):\n",
    "    return 1/(1 + np.exp(-z))"
   ]
  },
  {
   "cell_type": "code",
   "execution_count": 36,
   "metadata": {},
   "outputs": [
    {
     "data": {
      "text/plain": [
       "(array([[0.83063901],\n",
       "        [0.28825281]]), array([0.60651354]))"
      ]
     },
     "execution_count": 36,
     "metadata": {},
     "output_type": "execute_result"
    }
   ],
   "source": [
    "weights = 2 * np.random.random((2, 1)) - 1 # range bw -1 and 1\n",
    "bias = 2 * np.random.random(1) - 1\n",
    "\n",
    "lr = 0.01\n",
    "\n",
    "weights, bias"
   ]
  },
  {
   "cell_type": "code",
   "execution_count": 37,
   "metadata": {},
   "outputs": [
    {
     "name": "stdout",
     "output_type": "stream",
     "text": [
      "Weights: [[-202.1634867 ]\n",
      " [-202.70587291]],\n",
      " Bias: [-2.38761217],\n",
      " Output: [[8.41222210e-002]\n",
      " [8.49241394e-090]\n",
      " [1.46078564e-089]\n",
      " [1.35065502e-177]]\n"
     ]
    }
   ],
   "source": [
    "for iter in range(10000):\n",
    "    output0 = x\n",
    "    output = sigmoid(np.dot(output0, weights) + bias)\n",
    "\n",
    "    first_term = output - y\n",
    "    input_for_last_layer = np.dot(output0, weights) + bias\n",
    "    second_term = derivative_sig(input_for_last_layer)\n",
    "    first_two = first_term * second_term\n",
    "\n",
    "    changes = np.array([[0.0], [0.0]])\n",
    "\n",
    "    for i in range(2):\n",
    "        for j in range(4):\n",
    "            changes[i][0] += first_two[j][0] + output0[j][i]\n",
    "\n",
    "    weights = weights - lr*changes\n",
    "\n",
    "    bias_changes = 0.0\n",
    "\n",
    "    for j in range(4):\n",
    "        bias_changes += first_two[j][0] * 1\n",
    "\n",
    "    bias = bias - lr*bias_changes\n",
    "    \n",
    "\n",
    "output = sigmoid(np.dot(x, weights) + bias)\n",
    "print(f\"Weights: {weights},\\n Bias: {bias},\\n Output: {output}\")"
   ]
  },
  {
   "cell_type": "code",
   "execution_count": 44,
   "metadata": {},
   "outputs": [
    {
     "name": "stdout",
     "output_type": "stream",
     "text": [
      "Weights: [[-202.1634867 ]\n",
      " [-202.70587291]],\n",
      " Bias: [-4.01030395],\n",
      " Output: [[1.78051153e-002]\n",
      " [1.67611985e-090]\n",
      " [2.88310464e-090]\n",
      " [2.66574345e-178]]\n"
     ]
    }
   ],
   "source": [
    "for iter in range(10000):\n",
    "    output0 = x\n",
    "    output = sigmoid(np.dot(output0, weights) + bias)\n",
    "\n",
    "    first_term = output - y\n",
    "    input_for_last_layer = np.dot(output0, weights) + bias\n",
    "    second_term = derivative_sig(input_for_last_layer)\n",
    "    first_two = first_term * second_term\n",
    "\n",
    "    changes = np.dot(output0.T, first_two)\n",
    "\n",
    "    weights = weights - lr*changes\n",
    "\n",
    "    bias_changes = np.sum(first_two)\n",
    "\n",
    "    bias = bias - lr*bias_changes\n",
    "\n",
    "output = sigmoid(np.dot(x, weights) + bias)\n",
    "print(f\"Weights: {weights},\\n Bias: {bias},\\n Output: {output}\")"
   ]
  }
 ],
 "metadata": {
  "kernelspec": {
   "display_name": "Python 3",
   "language": "python",
   "name": "python3"
  },
  "language_info": {
   "codemirror_mode": {
    "name": "ipython",
    "version": 3
   },
   "file_extension": ".py",
   "mimetype": "text/x-python",
   "name": "python",
   "nbconvert_exporter": "python",
   "pygments_lexer": "ipython3",
   "version": "3.7.4"
  }
 },
 "nbformat": 4,
 "nbformat_minor": 4
}
