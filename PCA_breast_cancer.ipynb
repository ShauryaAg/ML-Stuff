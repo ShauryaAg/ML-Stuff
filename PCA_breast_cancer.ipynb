{
 "cells": [
  {
   "cell_type": "code",
   "execution_count": 1,
   "metadata": {},
   "outputs": [],
   "source": [
    "from sklearn import datasets, decomposition, ensemble, model_selection, linear_model\n",
    "import numpy as np\n",
    "import time\n",
    "from sklearn.preprocessing import StandardScaler"
   ]
  },
  {
   "cell_type": "code",
   "execution_count": 2,
   "metadata": {},
   "outputs": [],
   "source": [
    "breast_cancer = datasets.load_breast_cancer()\n",
    "\n",
    "x = breast_cancer.data\n",
    "y = breast_cancer.target"
   ]
  },
  {
   "cell_type": "code",
   "execution_count": 3,
   "metadata": {},
   "outputs": [
    {
     "name": "stdout",
     "output_type": "stream",
     "text": [
      "[[ 1.09706398 -2.07333501  1.26993369 ...  2.29607613  2.75062224\n",
      "   1.93701461]\n",
      " [ 1.82982061 -0.35363241  1.68595471 ...  1.0870843  -0.24388967\n",
      "   0.28118999]\n",
      " [ 1.57988811  0.45618695  1.56650313 ...  1.95500035  1.152255\n",
      "   0.20139121]\n",
      " ...\n",
      " [ 0.70228425  2.0455738   0.67267578 ...  0.41406869 -1.10454895\n",
      "  -0.31840916]\n",
      " [ 1.83834103  2.33645719  1.98252415 ...  2.28998549  1.91908301\n",
      "   2.21963528]\n",
      " [-1.80840125  1.22179204 -1.81438851 ... -1.74506282 -0.04813821\n",
      "  -0.75120669]]\n"
     ]
    }
   ],
   "source": [
    "sc = StandardScaler()\n",
    "x_std = sc.fit_transform(x)\n",
    "\n",
    "x_train, x_test, y_train, y_test = model_selection.train_test_split(x_std, y)\n",
    "print(x_std)"
   ]
  },
  {
   "cell_type": "code",
   "execution_count": 4,
   "metadata": {},
   "outputs": [
    {
     "data": {
      "text/plain": [
       "array([[-2.56596933e+00, -6.12175860e-01,  1.88285639e+00, ...,\n",
       "        -4.49038590e-03, -3.03716513e-02,  4.91954064e-03],\n",
       "       [-3.02320128e+00, -7.58885190e-01,  2.76652419e-01, ...,\n",
       "        -6.27035907e-03,  6.10785349e-04,  1.77616383e-03],\n",
       "       [-2.64454093e+00, -1.07943303e+00, -1.37877623e+00, ...,\n",
       "         2.38721193e-02,  8.99390211e-03, -2.48811842e-03],\n",
       "       ...,\n",
       "       [-2.48545766e+00, -2.33548891e+00, -5.35569848e-01, ...,\n",
       "         4.88417632e-03, -2.38782581e-02,  5.38735322e-03],\n",
       "       [-2.49118620e+00, -1.95744554e+00, -9.23249743e-01, ...,\n",
       "        -3.88742411e-02,  4.50262406e-03, -1.23546927e-03],\n",
       "       [-2.47518347e+00,  5.31346791e-01, -1.15820785e+00, ...,\n",
       "         5.92894253e-03, -7.55951177e-04,  4.02812934e-03]])"
      ]
     },
     "execution_count": 4,
     "metadata": {},
     "output_type": "execute_result"
    }
   ],
   "source": [
    "pca = decomposition.PCA()\n",
    "\n",
    "pca.fit_transform(x_train)"
   ]
  },
  {
   "cell_type": "code",
   "execution_count": 5,
   "metadata": {},
   "outputs": [
    {
     "data": {
      "text/plain": [
       "17"
      ]
     },
     "execution_count": 5,
     "metadata": {},
     "output_type": "execute_result"
    }
   ],
   "source": [
    "total = sum(pca.explained_variance_)\n",
    "\n",
    "k = 0\n",
    "current_variance = 0\n",
    "\n",
    "while current_variance/total< 0.99:\n",
    "    current_variance += pca.explained_variance_[k]\n",
    "    k += 1\n",
    "\n",
    "k"
   ]
  },
  {
   "cell_type": "code",
   "execution_count": 6,
   "metadata": {},
   "outputs": [],
   "source": [
    "pca = decomposition.PCA(n_components=k)\n",
    "\n",
    "x_train_pca = pca.fit_transform(x_train)\n",
    "x_test_pca = pca.transform(x_test)"
   ]
  },
  {
   "cell_type": "code",
   "execution_count": 7,
   "metadata": {},
   "outputs": [
    {
     "name": "stdout",
     "output_type": "stream",
     "text": [
      "0.013942480087280273\n",
      "0.986013986013986\n"
     ]
    }
   ],
   "source": [
    "lr = linear_model.LogisticRegression()\n",
    "\n",
    "start_time = time.time()\n",
    "lr.fit(x_train, y_train)\n",
    "end_time = time.time()\n",
    "\n",
    "print(end_time - start_time)\n",
    "print(lr.score(x_test, y_test))"
   ]
  },
  {
   "cell_type": "code",
   "execution_count": 8,
   "metadata": {},
   "outputs": [
    {
     "name": "stdout",
     "output_type": "stream",
     "text": [
      "0.005983591079711914\n",
      "0.972027972027972\n"
     ]
    }
   ],
   "source": [
    "lr1 = linear_model.LogisticRegression()\n",
    "\n",
    "start_time = time.time()\n",
    "lr1.fit(x_train_pca, y_train)\n",
    "end_time = time.time()\n",
    "\n",
    "print(end_time - start_time)\n",
    "print(lr1.score(x_test_pca, y_test))"
   ]
  }
 ],
 "metadata": {
  "kernelspec": {
   "display_name": "Python 3",
   "language": "python",
   "name": "python3"
  },
  "language_info": {
   "codemirror_mode": {
    "name": "ipython",
    "version": 3
   },
   "file_extension": ".py",
   "mimetype": "text/x-python",
   "name": "python",
   "nbconvert_exporter": "python",
   "pygments_lexer": "ipython3",
   "version": "3.7.4"
  }
 },
 "nbformat": 4,
 "nbformat_minor": 4
}
