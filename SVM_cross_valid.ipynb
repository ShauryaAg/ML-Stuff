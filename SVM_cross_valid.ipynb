{
 "cells": [
  {
   "cell_type": "code",
   "execution_count": 1,
   "metadata": {},
   "outputs": [
    {
     "name": "stderr",
     "output_type": "stream",
     "text": [
      "d:\\documents\\codingninjas\\venv\\lib\\importlib\\_bootstrap.py:219: RuntimeWarning: numpy.ufunc size changed, may indicate binary incompatibility. Expected 192 from C header, got 216 from PyObject\n",
      "  return f(*args, **kwds)\n"
     ]
    }
   ],
   "source": [
    "from sklearn import svm, datasets, model_selection\n",
    "from sklearn.neighbors import KNeighborsClassifier"
   ]
  },
  {
   "cell_type": "code",
   "execution_count": 2,
   "metadata": {},
   "outputs": [],
   "source": [
    "iris = datasets.load_iris()\n",
    "x = iris.data\n",
    "y = iris.target\n",
    "\n",
    "x_train, x_test, y_train, y_test = model_selection.train_test_split(x, y)"
   ]
  },
  {
   "cell_type": "code",
   "execution_count": 3,
   "metadata": {},
   "outputs": [
    {
     "data": {
      "text/plain": [
       "GridSearchCV(cv=None, error_score=nan,\n",
       "             estimator=KNeighborsClassifier(algorithm='auto', leaf_size=30,\n",
       "                                            metric='minkowski',\n",
       "                                            metric_params=None, n_jobs=None,\n",
       "                                            n_neighbors=5, p=2,\n",
       "                                            weights='uniform'),\n",
       "             iid='deprecated', n_jobs=None,\n",
       "             param_grid={'n_neighbors': [3, 5, 7, 9, 11]},\n",
       "             pre_dispatch='2*n_jobs', refit=True, return_train_score=False,\n",
       "             scoring=None, verbose=0)"
      ]
     },
     "execution_count": 3,
     "metadata": {},
     "output_type": "execute_result"
    }
   ],
   "source": [
    "model = KNeighborsClassifier()\n",
    "\n",
    "grid = {\n",
    "    \"n_neighbors\": [3, 5, 7, 9, 11]\n",
    "}\n",
    "\n",
    "abc = model_selection.GridSearchCV(model, grid)\n",
    "abc.fit(x_train, y_train)"
   ]
  },
  {
   "cell_type": "code",
   "execution_count": 4,
   "metadata": {},
   "outputs": [
    {
     "data": {
      "text/plain": [
       "KNeighborsClassifier(algorithm='auto', leaf_size=30, metric='minkowski',\n",
       "                     metric_params=None, n_jobs=None, n_neighbors=3, p=2,\n",
       "                     weights='uniform')"
      ]
     },
     "execution_count": 4,
     "metadata": {},
     "output_type": "execute_result"
    }
   ],
   "source": [
    "abc.best_estimator_"
   ]
  },
  {
   "cell_type": "code",
   "execution_count": 5,
   "metadata": {},
   "outputs": [
    {
     "data": {
      "text/plain": [
       "{'mean_fit_time': array([0.05816622, 0.00068359, 0.00082688, 0.00080948, 0.00072398]),\n",
       " 'std_fit_time': array([0.11448736, 0.00056496, 0.00043111, 0.00040498, 0.00038372]),\n",
       " 'mean_score_time': array([0.0025722 , 0.00207648, 0.0023541 , 0.00139084, 0.00246143]),\n",
       " 'std_score_time': array([0.00202996, 0.00066963, 0.00075034, 0.00049122, 0.00045091]),\n",
       " 'param_n_neighbors': masked_array(data=[3, 5, 7, 9, 11],\n",
       "              mask=[False, False, False, False, False],\n",
       "        fill_value='?',\n",
       "             dtype=object),\n",
       " 'params': [{'n_neighbors': 3},\n",
       "  {'n_neighbors': 5},\n",
       "  {'n_neighbors': 7},\n",
       "  {'n_neighbors': 9},\n",
       "  {'n_neighbors': 11}],\n",
       " 'split0_test_score': array([0.95652174, 0.95652174, 0.95652174, 0.95652174, 0.91304348]),\n",
       " 'split1_test_score': array([0.95652174, 0.86956522, 0.86956522, 0.86956522, 0.86956522]),\n",
       " 'split2_test_score': array([1.        , 1.        , 0.95454545, 0.95454545, 0.95454545]),\n",
       " 'split3_test_score': array([0.95454545, 0.95454545, 0.95454545, 0.95454545, 0.95454545]),\n",
       " 'split4_test_score': array([1., 1., 1., 1., 1.]),\n",
       " 'mean_test_score': array([0.97351779, 0.95612648, 0.94703557, 0.94703557, 0.93833992]),\n",
       " 'std_test_score': array([0.02163468, 0.04763461, 0.04244919, 0.04244919, 0.04403879]),\n",
       " 'rank_test_score': array([1, 2, 3, 3, 5])}"
      ]
     },
     "execution_count": 5,
     "metadata": {},
     "output_type": "execute_result"
    }
   ],
   "source": [
    "abc.cv_results_"
   ]
  },
  {
   "cell_type": "code",
   "execution_count": 10,
   "metadata": {},
   "outputs": [
    {
     "data": {
      "text/plain": [
       "GridSearchCV(cv=None, error_score=nan,\n",
       "             estimator=SVC(C=1.0, break_ties=False, cache_size=200,\n",
       "                           class_weight=None, coef0=0.0,\n",
       "                           decision_function_shape='ovr', degree=3,\n",
       "                           gamma='scale', kernel='rbf', max_iter=-1,\n",
       "                           probability=False, random_state=None, shrinking=True,\n",
       "                           tol=0.001, verbose=False),\n",
       "             iid='deprecated', n_jobs=None,\n",
       "             param_grid={'C': [100.0, 1000.0, 5000.0, 10000.0, 100000.0],\n",
       "                         'gamma': [0.001, 0.0005, 0.0001, 0.005]},\n",
       "             pre_dispatch='2*n_jobs', refit=True, return_train_score=False,\n",
       "             scoring=None, verbose=0)"
      ]
     },
     "execution_count": 10,
     "metadata": {},
     "output_type": "execute_result"
    }
   ],
   "source": [
    "model1 = svm.SVC()\n",
    "\n",
    "grid = {\n",
    "    \"C\": [1e2, 1e3, 5e3, 1e4, 1e5],\n",
    "    \"gamma\": [1e-3, 5e-4, 1e-4, 5e-3]\n",
    "}\n",
    "\n",
    "abc1 = model_selection.GridSearchCV(model1, grid)\n",
    "abc1.fit(x_train, y_train)"
   ]
  },
  {
   "cell_type": "code",
   "execution_count": 11,
   "metadata": {},
   "outputs": [
    {
     "data": {
      "text/plain": [
       "SVC(C=100.0, break_ties=False, cache_size=200, class_weight=None, coef0=0.0,\n",
       "    decision_function_shape='ovr', degree=3, gamma=0.005, kernel='rbf',\n",
       "    max_iter=-1, probability=False, random_state=None, shrinking=True,\n",
       "    tol=0.001, verbose=False)"
      ]
     },
     "execution_count": 11,
     "metadata": {},
     "output_type": "execute_result"
    }
   ],
   "source": [
    "abc1.best_estimator_"
   ]
  },
  {
   "cell_type": "code",
   "execution_count": 12,
   "metadata": {},
   "outputs": [
    {
     "data": {
      "text/plain": [
       "{'mean_fit_time': array([0.00107899, 0.0011508 , 0.00140448, 0.0007699 , 0.00066137,\n",
       "        0.00097208, 0.00089569, 0.00099759, 0.00099659, 0.00099454,\n",
       "        0.00099688, 0.00125713, 0.00100603, 0.00088453, 0.0011035 ,\n",
       "        0.00081787, 0.00098882, 0.00086651, 0.0009758 , 0.0016705 ]),\n",
       " 'std_fit_time': array([6.42806107e-04, 7.61797876e-04, 4.85770056e-04, 3.88167044e-04,\n",
       "        7.46478497e-04, 5.72255053e-05, 6.17212672e-04, 2.00838467e-06,\n",
       "        9.53674316e-07, 3.93383431e-06, 2.79428202e-06, 5.42364641e-04,\n",
       "        1.75542145e-05, 4.99196469e-04, 1.69662427e-04, 4.10965048e-04,\n",
       "        1.92789692e-05, 2.60046308e-04, 4.45689466e-05, 4.17302278e-04]),\n",
       " 'mean_score_time': array([0.00032182, 0.00092812, 0.00122185, 0.00040154, 0.00072374,\n",
       "        0.00039868, 0.00062251, 0.00059981, 0.00059638, 0.00067391,\n",
       "        0.00059819, 0.00060806, 0.00064754, 0.00068774, 0.00049429,\n",
       "        0.00059915, 0.0007977 , 0.00072885, 0.00039849, 0.00094624]),\n",
       " 'std_score_time': array([0.00042002, 0.0001976 , 0.00039339, 0.00049179, 0.00039564,\n",
       "        0.00048829, 0.00048413, 0.00048975, 0.00048696, 0.00041024,\n",
       "        0.00048842, 0.00049664, 0.00054119, 0.00040513, 0.00042986,\n",
       "        0.00049395, 0.00039885, 0.00038849, 0.00048805, 0.00017011]),\n",
       " 'param_C': masked_array(data=[100.0, 100.0, 100.0, 100.0, 1000.0, 1000.0, 1000.0,\n",
       "                    1000.0, 5000.0, 5000.0, 5000.0, 5000.0, 10000.0,\n",
       "                    10000.0, 10000.0, 10000.0, 100000.0, 100000.0,\n",
       "                    100000.0, 100000.0],\n",
       "              mask=[False, False, False, False, False, False, False, False,\n",
       "                    False, False, False, False, False, False, False, False,\n",
       "                    False, False, False, False],\n",
       "        fill_value='?',\n",
       "             dtype=object),\n",
       " 'param_gamma': masked_array(data=[0.001, 0.0005, 0.0001, 0.005, 0.001, 0.0005, 0.0001,\n",
       "                    0.005, 0.001, 0.0005, 0.0001, 0.005, 0.001, 0.0005,\n",
       "                    0.0001, 0.005, 0.001, 0.0005, 0.0001, 0.005],\n",
       "              mask=[False, False, False, False, False, False, False, False,\n",
       "                    False, False, False, False, False, False, False, False,\n",
       "                    False, False, False, False],\n",
       "        fill_value='?',\n",
       "             dtype=object),\n",
       " 'params': [{'C': 100.0, 'gamma': 0.001},\n",
       "  {'C': 100.0, 'gamma': 0.0005},\n",
       "  {'C': 100.0, 'gamma': 0.0001},\n",
       "  {'C': 100.0, 'gamma': 0.005},\n",
       "  {'C': 1000.0, 'gamma': 0.001},\n",
       "  {'C': 1000.0, 'gamma': 0.0005},\n",
       "  {'C': 1000.0, 'gamma': 0.0001},\n",
       "  {'C': 1000.0, 'gamma': 0.005},\n",
       "  {'C': 5000.0, 'gamma': 0.001},\n",
       "  {'C': 5000.0, 'gamma': 0.0005},\n",
       "  {'C': 5000.0, 'gamma': 0.0001},\n",
       "  {'C': 5000.0, 'gamma': 0.005},\n",
       "  {'C': 10000.0, 'gamma': 0.001},\n",
       "  {'C': 10000.0, 'gamma': 0.0005},\n",
       "  {'C': 10000.0, 'gamma': 0.0001},\n",
       "  {'C': 10000.0, 'gamma': 0.005},\n",
       "  {'C': 100000.0, 'gamma': 0.001},\n",
       "  {'C': 100000.0, 'gamma': 0.0005},\n",
       "  {'C': 100000.0, 'gamma': 0.0001},\n",
       "  {'C': 100000.0, 'gamma': 0.005}],\n",
       " 'split0_test_score': array([0.91304348, 0.95652174, 0.91304348, 0.91304348, 0.95652174,\n",
       "        0.91304348, 0.91304348, 0.95652174, 0.95652174, 0.95652174,\n",
       "        0.91304348, 0.95652174, 0.95652174, 0.95652174, 0.95652174,\n",
       "        0.91304348, 0.91304348, 0.91304348, 0.95652174, 0.91304348]),\n",
       " 'split1_test_score': array([0.91304348, 0.86956522, 0.86956522, 0.95652174, 0.95652174,\n",
       "        0.95652174, 0.91304348, 0.95652174, 0.95652174, 0.95652174,\n",
       "        0.95652174, 0.91304348, 0.91304348, 0.95652174, 0.95652174,\n",
       "        0.91304348, 0.91304348, 0.91304348, 0.95652174, 0.86956522]),\n",
       " 'split2_test_score': array([0.95454545, 0.95454545, 0.90909091, 1.        , 0.95454545,\n",
       "        1.        , 0.95454545, 0.90909091, 0.90909091, 0.90909091,\n",
       "        1.        , 0.90909091, 0.90909091, 0.90909091, 0.95454545,\n",
       "        0.90909091, 0.90909091, 0.90909091, 0.90909091, 0.90909091]),\n",
       " 'split3_test_score': array([0.95454545, 0.95454545, 0.90909091, 1.        , 1.        ,\n",
       "        1.        , 0.95454545, 1.        , 1.        , 1.        ,\n",
       "        1.        , 1.        , 1.        , 1.        , 1.        ,\n",
       "        1.        , 1.        , 1.        , 1.        , 1.        ]),\n",
       " 'split4_test_score': array([1.        , 1.        , 0.86363636, 1.        , 1.        ,\n",
       "        1.        , 1.        , 1.        , 1.        , 1.        ,\n",
       "        1.        , 1.        , 1.        , 1.        , 1.        ,\n",
       "        1.        , 1.        , 1.        , 1.        , 1.        ]),\n",
       " 'mean_test_score': array([0.94703557, 0.94703557, 0.89288538, 0.97391304, 0.97351779,\n",
       "        0.97391304, 0.94703557, 0.96442688, 0.96442688, 0.96442688,\n",
       "        0.97391304, 0.95573123, 0.95573123, 0.96442688, 0.97351779,\n",
       "        0.94703557, 0.94703557, 0.94703557, 0.96442688, 0.93833992]),\n",
       " 'std_test_score': array([0.03233868, 0.04244919, 0.0215913 , 0.03478261, 0.02163468,\n",
       "        0.03478261, 0.03233868, 0.033817  , 0.033817  , 0.033817  ,\n",
       "        0.03478261, 0.03979356, 0.03979356, 0.033817  , 0.02163468,\n",
       "        0.04326935, 0.04326935, 0.04326935, 0.033817  , 0.05259145]),\n",
       " 'rank_test_score': array([13, 13, 20,  1,  4,  1, 13,  6,  6,  6,  1, 11, 11,  6,  4, 13, 13,\n",
       "        13,  6, 19])}"
      ]
     },
     "execution_count": 12,
     "metadata": {},
     "output_type": "execute_result"
    }
   ],
   "source": [
    "abc1.cv_results_"
   ]
  },
  {
   "cell_type": "code",
   "execution_count": null,
   "metadata": {},
   "outputs": [],
   "source": []
  }
 ],
 "metadata": {
  "kernelspec": {
   "display_name": "Python 3",
   "language": "python",
   "name": "python3"
  },
  "language_info": {
   "codemirror_mode": {
    "name": "ipython",
    "version": 3
   },
   "file_extension": ".py",
   "mimetype": "text/x-python",
   "name": "python",
   "nbconvert_exporter": "python",
   "pygments_lexer": "ipython3",
   "version": "3.7.4"
  }
 },
 "nbformat": 4,
 "nbformat_minor": 4
}
