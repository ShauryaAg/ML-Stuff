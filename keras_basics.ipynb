{
 "cells": [
  {
   "cell_type": "code",
   "execution_count": 16,
   "metadata": {},
   "outputs": [],
   "source": [
    "from keras.models import Sequential\n",
    "from keras.layers import Dense\n",
    "\n",
    "from sklearn import datasets, model_selection\n",
    "from sklearn.preprocessing import StandardScaler"
   ]
  },
  {
   "cell_type": "code",
   "execution_count": 27,
   "metadata": {},
   "outputs": [],
   "source": [
    "cancer = datasets.load_breast_cancer()\n",
    "\n",
    "x_train, x_test, y_train, y_test = model_selection.train_test_split(cancer.data, cancer.target)"
   ]
  },
  {
   "cell_type": "code",
   "execution_count": 28,
   "metadata": {},
   "outputs": [],
   "source": [
    "sc = StandardScaler()\n",
    "\n",
    "x_train = sc.fit_transform(x_train)\n",
    "x_test = sc.transform(x_test)"
   ]
  },
  {
   "cell_type": "code",
   "execution_count": 34,
   "metadata": {},
   "outputs": [],
   "source": [
    "model = Sequential()\n",
    "\n",
    "model.add(Dense(units=32, activation='relu', input_dim=30))\n",
    "model.add(Dense(units=32, activation='relu'))\n",
    "model.add(Dense(units=1, activation='sigmoid'))"
   ]
  },
  {
   "cell_type": "code",
   "execution_count": 35,
   "metadata": {},
   "outputs": [],
   "source": [
    "model.compile(optimizer='adam', loss='binary_crossentropy', metrics=['accuracy'])"
   ]
  },
  {
   "cell_type": "code",
   "execution_count": 36,
   "metadata": {},
   "outputs": [
    {
     "name": "stdout",
     "output_type": "stream",
     "text": [
      "Train on 426 samples, validate on 143 samples\n",
      "Epoch 1/40\n",
      "426/426 [==============================] - 0s 248us/step - loss: 0.6376 - accuracy: 0.6643 - val_loss: 0.5122 - val_accuracy: 0.8112\n",
      "Epoch 2/40\n",
      "426/426 [==============================] - 0s 30us/step - loss: 0.4425 - accuracy: 0.8638 - val_loss: 0.3621 - val_accuracy: 0.9091\n",
      "Epoch 3/40\n",
      "426/426 [==============================] - 0s 33us/step - loss: 0.3218 - accuracy: 0.9249 - val_loss: 0.2707 - val_accuracy: 0.9371\n",
      "Epoch 4/40\n",
      "426/426 [==============================] - 0s 26us/step - loss: 0.2518 - accuracy: 0.9390 - val_loss: 0.2112 - val_accuracy: 0.9371\n",
      "Epoch 5/40\n",
      "426/426 [==============================] - 0s 26us/step - loss: 0.2035 - accuracy: 0.9413 - val_loss: 0.1734 - val_accuracy: 0.9510\n",
      "Epoch 6/40\n",
      "426/426 [==============================] - 0s 28us/step - loss: 0.1701 - accuracy: 0.9484 - val_loss: 0.1477 - val_accuracy: 0.9510\n",
      "Epoch 7/40\n",
      "426/426 [==============================] - 0s 23us/step - loss: 0.1462 - accuracy: 0.9577 - val_loss: 0.1295 - val_accuracy: 0.9580\n",
      "Epoch 8/40\n",
      "426/426 [==============================] - 0s 25us/step - loss: 0.1287 - accuracy: 0.9601 - val_loss: 0.1167 - val_accuracy: 0.9650\n",
      "Epoch 9/40\n",
      "426/426 [==============================] - 0s 26us/step - loss: 0.1150 - accuracy: 0.9648 - val_loss: 0.1062 - val_accuracy: 0.9650\n",
      "Epoch 10/40\n",
      "426/426 [==============================] - 0s 26us/step - loss: 0.1048 - accuracy: 0.9718 - val_loss: 0.0997 - val_accuracy: 0.9580\n",
      "Epoch 11/40\n",
      "426/426 [==============================] - 0s 26us/step - loss: 0.0970 - accuracy: 0.9765 - val_loss: 0.0955 - val_accuracy: 0.9650\n",
      "Epoch 12/40\n",
      "426/426 [==============================] - 0s 28us/step - loss: 0.0907 - accuracy: 0.9765 - val_loss: 0.0906 - val_accuracy: 0.9720\n",
      "Epoch 13/40\n",
      "426/426 [==============================] - 0s 26us/step - loss: 0.0857 - accuracy: 0.9789 - val_loss: 0.0867 - val_accuracy: 0.9720\n",
      "Epoch 14/40\n",
      "426/426 [==============================] - 0s 26us/step - loss: 0.0815 - accuracy: 0.9789 - val_loss: 0.0834 - val_accuracy: 0.9720\n",
      "Epoch 15/40\n",
      "426/426 [==============================] - 0s 26us/step - loss: 0.0777 - accuracy: 0.9789 - val_loss: 0.0796 - val_accuracy: 0.9720\n",
      "Epoch 16/40\n",
      "426/426 [==============================] - 0s 23us/step - loss: 0.0747 - accuracy: 0.9812 - val_loss: 0.0774 - val_accuracy: 0.9720\n",
      "Epoch 17/40\n",
      "426/426 [==============================] - 0s 26us/step - loss: 0.0716 - accuracy: 0.9812 - val_loss: 0.0748 - val_accuracy: 0.9720\n",
      "Epoch 18/40\n",
      "426/426 [==============================] - 0s 30us/step - loss: 0.0694 - accuracy: 0.9812 - val_loss: 0.0722 - val_accuracy: 0.9720\n",
      "Epoch 19/40\n",
      "426/426 [==============================] - 0s 26us/step - loss: 0.0671 - accuracy: 0.9812 - val_loss: 0.0709 - val_accuracy: 0.9720\n",
      "Epoch 20/40\n",
      "426/426 [==============================] - 0s 26us/step - loss: 0.0651 - accuracy: 0.9836 - val_loss: 0.0707 - val_accuracy: 0.9720\n",
      "Epoch 21/40\n",
      "426/426 [==============================] - 0s 23us/step - loss: 0.0630 - accuracy: 0.9836 - val_loss: 0.0682 - val_accuracy: 0.9720\n",
      "Epoch 22/40\n",
      "426/426 [==============================] - 0s 26us/step - loss: 0.0610 - accuracy: 0.9836 - val_loss: 0.0667 - val_accuracy: 0.9720\n",
      "Epoch 23/40\n",
      "426/426 [==============================] - 0s 26us/step - loss: 0.0594 - accuracy: 0.9836 - val_loss: 0.0667 - val_accuracy: 0.9650\n",
      "Epoch 24/40\n",
      "426/426 [==============================] - 0s 23us/step - loss: 0.0575 - accuracy: 0.9859 - val_loss: 0.0663 - val_accuracy: 0.9650\n",
      "Epoch 25/40\n",
      "426/426 [==============================] - 0s 26us/step - loss: 0.0560 - accuracy: 0.9859 - val_loss: 0.0657 - val_accuracy: 0.9720\n",
      "Epoch 26/40\n",
      "426/426 [==============================] - 0s 26us/step - loss: 0.0542 - accuracy: 0.9859 - val_loss: 0.0638 - val_accuracy: 0.9790\n",
      "Epoch 27/40\n",
      "426/426 [==============================] - 0s 26us/step - loss: 0.0529 - accuracy: 0.9859 - val_loss: 0.0630 - val_accuracy: 0.9720\n",
      "Epoch 28/40\n",
      "426/426 [==============================] - 0s 23us/step - loss: 0.0515 - accuracy: 0.9836 - val_loss: 0.0609 - val_accuracy: 0.9790\n",
      "Epoch 29/40\n",
      "426/426 [==============================] - 0s 26us/step - loss: 0.0501 - accuracy: 0.9836 - val_loss: 0.0629 - val_accuracy: 0.9790\n",
      "Epoch 30/40\n",
      "426/426 [==============================] - 0s 23us/step - loss: 0.0485 - accuracy: 0.9859 - val_loss: 0.0618 - val_accuracy: 0.9860\n",
      "Epoch 31/40\n",
      "426/426 [==============================] - 0s 26us/step - loss: 0.0470 - accuracy: 0.9859 - val_loss: 0.0631 - val_accuracy: 0.9790\n",
      "Epoch 32/40\n",
      "426/426 [==============================] - 0s 23us/step - loss: 0.0454 - accuracy: 0.9859 - val_loss: 0.0625 - val_accuracy: 0.9790\n",
      "Epoch 33/40\n",
      "426/426 [==============================] - 0s 26us/step - loss: 0.0440 - accuracy: 0.9859 - val_loss: 0.0612 - val_accuracy: 0.9790\n",
      "Epoch 34/40\n",
      "426/426 [==============================] - 0s 26us/step - loss: 0.0428 - accuracy: 0.9859 - val_loss: 0.0593 - val_accuracy: 0.9790\n",
      "Epoch 35/40\n",
      "426/426 [==============================] - 0s 26us/step - loss: 0.0416 - accuracy: 0.9859 - val_loss: 0.0595 - val_accuracy: 0.9790\n",
      "Epoch 36/40\n",
      "426/426 [==============================] - 0s 23us/step - loss: 0.0403 - accuracy: 0.9859 - val_loss: 0.0604 - val_accuracy: 0.9790\n",
      "Epoch 37/40\n",
      "426/426 [==============================] - 0s 23us/step - loss: 0.0392 - accuracy: 0.9859 - val_loss: 0.0608 - val_accuracy: 0.9790\n",
      "Epoch 38/40\n",
      "426/426 [==============================] - 0s 28us/step - loss: 0.0378 - accuracy: 0.9859 - val_loss: 0.0605 - val_accuracy: 0.9790\n",
      "Epoch 39/40\n",
      "426/426 [==============================] - 0s 23us/step - loss: 0.0370 - accuracy: 0.9859 - val_loss: 0.0622 - val_accuracy: 0.9790\n",
      "Epoch 40/40\n",
      "426/426 [==============================] - 0s 23us/step - loss: 0.0358 - accuracy: 0.9859 - val_loss: 0.0614 - val_accuracy: 0.9790\n"
     ]
    },
    {
     "data": {
      "text/plain": [
       "<keras.callbacks.callbacks.History at 0x1c8eb46dbc8>"
      ]
     },
     "execution_count": 36,
     "metadata": {},
     "output_type": "execute_result"
    }
   ],
   "source": [
    "model.fit(x_train, y_train, epochs=40, batch_size=50, validation_data=(x_test, y_test))"
   ]
  },
  {
   "cell_type": "code",
   "execution_count": 39,
   "metadata": {},
   "outputs": [
    {
     "name": "stdout",
     "output_type": "stream",
     "text": [
      "143/143 [==============================] - 0s 21us/step\n"
     ]
    },
    {
     "data": {
      "text/plain": [
       "[0.061424626363115714, 0.9790209531784058]"
      ]
     },
     "execution_count": 39,
     "metadata": {},
     "output_type": "execute_result"
    }
   ],
   "source": [
    "predictions = model.predict(x_test)\n",
    "\n",
    "model.evaluate(x_test, y_test) # returns loss, accuracy"
   ]
  },
  {
   "cell_type": "code",
   "execution_count": null,
   "metadata": {},
   "outputs": [],
   "source": []
  }
 ],
 "metadata": {
  "kernelspec": {
   "display_name": "Python 3",
   "language": "python",
   "name": "python3"
  },
  "language_info": {
   "codemirror_mode": {
    "name": "ipython",
    "version": 3
   },
   "file_extension": ".py",
   "mimetype": "text/x-python",
   "name": "python",
   "nbconvert_exporter": "python",
   "pygments_lexer": "ipython3",
   "version": "3.7.4"
  }
 },
 "nbformat": 4,
 "nbformat_minor": 4
}
