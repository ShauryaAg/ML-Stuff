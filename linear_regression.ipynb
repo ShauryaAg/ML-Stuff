{
 "cells": [
  {
   "cell_type": "code",
   "execution_count": 1,
   "metadata": {},
   "outputs": [],
   "source": [
    "import numpy as np\n",
    "from sklearn import model_selection\n",
    "from sklearn.linear_model import LinearRegression\n",
    "import matplotlib.pyplot as plt"
   ]
  },
  {
   "cell_type": "code",
   "execution_count": 2,
   "metadata": {},
   "outputs": [
    {
     "name": "stdout",
     "output_type": "stream",
     "text": [
      "(100, 2)\n"
     ]
    }
   ],
   "source": [
    "data = np.loadtxt(\"data.csv\", delimiter=\",\")\n",
    "\n",
    "print(data.shape) # on.y one feature, and one output"
   ]
  },
  {
   "cell_type": "code",
   "execution_count": 15,
   "metadata": {},
   "outputs": [],
   "source": [
    "x = data[:, 0] # for self written predict\n",
    "\n",
    "# x = data[:, 0].reshape(-1, 1) # for sklearn fitting\n",
    "y = data[:, 1]"
   ]
  },
  {
   "cell_type": "code",
   "execution_count": 16,
   "metadata": {},
   "outputs": [],
   "source": [
    "x_train, x_test, y_train, y_test = model_selection.train_test_split(x, y, test_size=0.3)"
   ]
  },
  {
   "cell_type": "code",
   "execution_count": 10,
   "metadata": {},
   "outputs": [
    {
     "data": {
      "text/plain": [
       "LinearRegression(copy_X=True, fit_intercept=True, n_jobs=None, normalize=False)"
      ]
     },
     "execution_count": 10,
     "metadata": {},
     "output_type": "execute_result"
    }
   ],
   "source": [
    "model = LinearRegression()\n",
    "model.fit(x_train, y_train)"
   ]
  },
  {
   "cell_type": "code",
   "execution_count": 11,
   "metadata": {},
   "outputs": [
    {
     "name": "stdout",
     "output_type": "stream",
     "text": [
      "[1.33665233]\n",
      "6.416773605912027\n"
     ]
    }
   ],
   "source": [
    "# y = mx + c\n",
    "\n",
    "print(model.coef_) # m\n",
    "print(model.intercept_) # c"
   ]
  },
  {
   "cell_type": "code",
   "execution_count": 12,
   "metadata": {},
   "outputs": [
    {
     "data": {
      "image/png": "[encoded data removed]",
      "text/plain": [
       "<Figure size 432x288 with 1 Axes>"
      ]
     },
     "metadata": {
      "needs_background": "light"
     },
     "output_type": "display_data"
    }
   ],
   "source": [
    "# plotting test data graph\n",
    "\n",
    "m = model.coef_\n",
    "c = model.intercept_\n",
    "\n",
    "x_line = np.arange(30, 70, 0.1)\n",
    "y_line = m * x_line + c\n",
    "\n",
    "plt.plot(x_line, y_line, \"r\")\n",
    "train_1d = x_train.reshape(70)\n",
    "plt.scatter(x_train, y_train)\n",
    "plt.show()"
   ]
  },
  {
   "cell_type": "code",
   "execution_count": 13,
   "metadata": {},
   "outputs": [
    {
     "data": {
      "image/png": "[encoded data removed]",
      "text/plain": [
       "<Figure size 432x288 with 1 Axes>"
      ]
     },
     "metadata": {
      "needs_background": "light"
     },
     "output_type": "display_data"
    }
   ],
   "source": [
    "# plotting test data graph\n",
    "\n",
    "m = model.coef_\n",
    "c = model.intercept_\n",
    "\n",
    "x_line = np.arange(30, 70, 0.1)\n",
    "y_line = m * x_line + c\n",
    "\n",
    "plt.plot(x_line, y_line, \"r\")\n",
    "train_1d = x_test.reshape(30)\n",
    "plt.scatter(x_test, y_test)\n",
    "plt.show()"
   ]
  },
  {
   "cell_type": "code",
   "execution_count": 14,
   "metadata": {},
   "outputs": [
    {
     "name": "stdout",
     "output_type": "stream",
     "text": [
      "0.598174439197328\n",
      "0.5932984495798209\n"
     ]
    }
   ],
   "source": [
    "score_test = model.score(x_test, y_test)\n",
    "score_train = model.score(x_train, y_train)\n",
    "\n",
    "print(score_test)\n",
    "print(score_train)"
   ]
  },
  {
   "cell_type": "code",
   "execution_count": 17,
   "metadata": {},
   "outputs": [],
   "source": [
    "def fit(x_train, y_train):\n",
    "\n",
    "    num = (x_train * y_train).mean() - (x_train.mean() * y_train.mean())\n",
    "    den = (x_train**2).mean() - (x_train.mean()**2)\n",
    "    m = num/den\n",
    "    \n",
    "    c = y_train.mean() - m * x_train.mean()\n",
    "\n",
    "    return m, c"
   ]
  },
  {
   "cell_type": "code",
   "execution_count": 18,
   "metadata": {},
   "outputs": [],
   "source": [
    "m, c = fit(x_train, y_train)\n",
    "\n",
    "def predict(x, m, c):\n",
    "    return m * x + c\n",
    "\n",
    "def score(y_train, y_pred):\n",
    "    score = 1 - ((((y_train - y_pred)**2).sum())/((y_train - y_train.mean())**2).sum())\n",
    "    return score\n",
    "\n",
    "def cost(x, y, m, c):\n",
    "    return ((y - m*x - c)**2).mean()"
   ]
  },
  {
   "cell_type": "code",
   "execution_count": 19,
   "metadata": {},
   "outputs": [
    {
     "name": "stdout",
     "output_type": "stream",
     "text": [
      "Test Score:  0.49554792360192657\n",
      "Train Score:  0.618200990438502\n",
      "M C:  1.329441781055236 7.901746202425969\n",
      "Cost on training data:  110.7188730991586\n"
     ]
    }
   ],
   "source": [
    "y_test_pred = predict(x_test, m, c)\n",
    "print(\"Test Score: \", score(y_test, y_test_pred))\n",
    "\n",
    "y_train_pred = predict(x_train, m, c)\n",
    "print(\"Train Score: \", score(y_train, y_train_pred))\n",
    "\n",
    "print(\"M C: \", m, c)\n",
    "print(\"Cost on training data: \", cost(x_train, y_train, m ,c))"
   ]
  },
  {
   "cell_type": "code",
   "execution_count": null,
   "metadata": {},
   "outputs": [],
   "source": []
  }
 ],
 "metadata": {
  "kernelspec": {
   "display_name": "Python 3",
   "language": "python",
   "name": "python3"
  },
  "language_info": {
   "codemirror_mode": {
    "name": "ipython",
    "version": 3
   },
   "file_extension": ".py",
   "mimetype": "text/x-python",
   "name": "python",
   "nbconvert_exporter": "python",
   "pygments_lexer": "ipython3",
   "version": "3.7.4"
  }
 },
 "nbformat": 4,
 "nbformat_minor": 4
}
