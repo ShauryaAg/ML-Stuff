{
 "cells": [
  {
   "cell_type": "code",
   "execution_count": 1,
   "metadata": {},
   "outputs": [],
   "source": [
    "import tensorflow as tf\n",
    "import numpy as np # for one-hot encoding\n",
    "from sklearn import datasets, model_selection\n",
    "import matplotlib.pyplot as plt"
   ]
  },
  {
   "cell_type": "code",
   "execution_count": 2,
   "metadata": {},
   "outputs": [],
   "source": [
    "plt.style.use(\"dark_background\")"
   ]
  },
  {
   "cell_type": "code",
   "execution_count": 3,
   "metadata": {},
   "outputs": [],
   "source": [
    "x, y = datasets.fetch_openml('mnist_784', version=1, return_X_y=True)"
   ]
  },
  {
   "cell_type": "code",
   "execution_count": 4,
   "metadata": {},
   "outputs": [],
   "source": [
    "x_train, x_test, y_train, y_test = model_selection.train_test_split(x, y)"
   ]
  },
  {
   "cell_type": "code",
   "execution_count": 5,
   "metadata": {},
   "outputs": [],
   "source": [
    "def indices_to_one_hot(data, nb_classes):\n",
    "    \"\"\"Convert an iterable of indices to one-hot encoded labels.\"\"\"\n",
    "    targets = np.array(data, dtype='uint8').reshape(-1)\n",
    "    return np.eye(nb_classes)[targets]"
   ]
  },
  {
   "cell_type": "code",
   "execution_count": 6,
   "metadata": {},
   "outputs": [],
   "source": [
    "nb_classes = int(int(y.max()) + 1) # classes from 0 to 9\n",
    "\n",
    "y_train = indices_to_one_hot(y_train, nb_classes)\n",
    "y_test = indices_to_one_hot(y_test, nb_classes)"
   ]
  },
  {
   "cell_type": "code",
   "execution_count": 7,
   "metadata": {},
   "outputs": [],
   "source": [
    "first_image = x_train[2]\n",
    "first_image = np.array(first_image, dtype='float')\n",
    "first_image = first_image.reshape((28, 28))"
   ]
  },
  {
   "cell_type": "code",
   "execution_count": 8,
   "metadata": {},
   "outputs": [
    {
     "name": "stdout",
     "output_type": "stream",
     "text": [
      "[0. 0. 0. 0. 0. 1. 0. 0. 0. 0.]\n"
     ]
    },
    {
     "data": {
      "image/png": "[encoded data removed]",
      "text/plain": [
       "<Figure size 432x288 with 1 Axes>"
      ]
     },
     "metadata": {},
     "output_type": "display_data"
    }
   ],
   "source": [
    "plt.imshow(first_image)\n",
    "print(y_train[2])"
   ]
  },
  {
   "cell_type": "code",
   "execution_count": 9,
   "metadata": {},
   "outputs": [
    {
     "name": "stdout",
     "output_type": "stream",
     "text": [
      "[[1.25326085 -0.150003627]]\n"
     ]
    }
   ],
   "source": [
    "tf.print(tf.random.normal([1, 2]))"
   ]
  },
  {
   "cell_type": "code",
   "execution_count": 22,
   "metadata": {},
   "outputs": [],
   "source": [
    "n_input = 784 #28*28\n",
    "n_hidden_1 = 256\n",
    "n_hidden_2 = 256\n",
    "n_classes = 10\n",
    "\n",
    "weights = {\n",
    "    'h1': tf.Variable(tf.random.normal([n_input, n_hidden_1], dtype='float64'), trainable=True),\n",
    "    'h2': tf.Variable(tf.random.normal([n_hidden_1, n_hidden_2], dtype='float64'), trainable=True),\n",
    "    'out': tf.Variable(tf.random.normal([n_hidden_2, n_classes], dtype='float64'), trainable=True)\n",
    "}\n",
    "\n",
    "biases = {\n",
    "    'h1': tf.Variable(tf.random.normal([n_hidden_1], dtype='float64'), trainable=True),\n",
    "    'h2': tf.Variable(tf.random.normal([n_hidden_2], dtype='float64'), trainable=True),\n",
    "    'out': tf.Variable(tf.random.normal([n_classes], dtype='float64'), trainable=True)\n",
    "}"
   ]
  },
  {
   "cell_type": "code",
   "execution_count": 23,
   "metadata": {},
   "outputs": [
    {
     "data": {
      "text/plain": [
       "<tf.Variable 'Variable_6:0' shape=(784, 256) dtype=float64>"
      ]
     },
     "execution_count": 23,
     "metadata": {},
     "output_type": "execute_result"
    }
   ],
   "source": [
    "weights['h1']"
   ]
  },
  {
   "cell_type": "code",
   "execution_count": 24,
   "metadata": {},
   "outputs": [],
   "source": [
    "def forward_propagation(x, weights, biases):\n",
    "    in_layer1 = tf.add(tf.matmul(x, weights['h1']), biases['h1'])\n",
    "    out_layer1 = tf.nn.relu(in_layer1)\n",
    "    \n",
    "    in_layer2 = tf.add(tf.matmul(out_layer1, weights['h2']), biases['h2'])\n",
    "    out_layer2 = tf.nn.relu(in_layer2)\n",
    "    \n",
    "    output = tf.add(tf.matmul(out_layer2, weights['out']), biases['out'])\n",
    "    return output"
   ]
  },
  {
   "cell_type": "code",
   "execution_count": 25,
   "metadata": {},
   "outputs": [
    {
     "data": {
      "text/plain": [
       "<tf.Tensor 'ArgMax:0' shape=(52500,) dtype=int64>"
      ]
     },
     "execution_count": 25,
     "metadata": {},
     "output_type": "execute_result"
    }
   ],
   "source": [
    "train_pred = forward_propagation(x_train, weights, biases)\n",
    "\n",
    "train_predictions = tf.argmax(train_pred, axis=1)\n",
    "true_train_labels = tf.argmax(y_train, axis=1)\n",
    "\n",
    "train_predictions"
   ]
  },
  {
   "cell_type": "code",
   "execution_count": 26,
   "metadata": {},
   "outputs": [
    {
     "data": {
      "text/plain": [
       "(<tf.Operation 'PrintV2' type=PrintV2>,\n",
       " <tf.Operation 'PrintV2_1' type=PrintV2>)"
      ]
     },
     "execution_count": 26,
     "metadata": {},
     "output_type": "execute_result"
    }
   ],
   "source": [
    "tf.print(train_predictions), tf.print(true_train_labels)"
   ]
  },
  {
   "cell_type": "code",
   "execution_count": 28,
   "metadata": {},
   "outputs": [
    {
     "data": {
      "text/plain": [
       "<tf.Operation 'PrintV2_2' type=PrintV2>"
      ]
     },
     "execution_count": 28,
     "metadata": {},
     "output_type": "execute_result"
    }
   ],
   "source": [
    "# tf.compat.v1.enable_eager_execution()\n",
    "\n",
    "cost = tf.reduce_mean(tf.nn.softmax_cross_entropy_with_logits(logits=train_pred, labels=y_train))\n",
    "\n",
    "tf.print(cost)"
   ]
  },
  {
   "cell_type": "code",
   "execution_count": 29,
   "metadata": {},
   "outputs": [
    {
     "data": {
      "text/plain": [
       "<tf.Operation 'PrintV2_4' type=PrintV2>"
      ]
     },
     "execution_count": 29,
     "metadata": {},
     "output_type": "execute_result"
    }
   ],
   "source": [
    "bool_correct_pred = tf.equal(train_predictions, true_train_labels)\n",
    "\n",
    "tf.print(bool_correct_pred)\n",
    "\n",
    "tf.print(tf.reduce_sum(tf.cast(bool_correct_pred, tf.float32)))"
   ]
  },
  {
   "cell_type": "code",
   "execution_count": 30,
   "metadata": {},
   "outputs": [],
   "source": [
    "# optimizer = tf.keras.optimizers.Adam(learning_rate=0.01)\n",
    "\n",
    "tf.compat.v1.disable_eager_execution()\n",
    "optimizer = tf.compat.v1.train.AdamOptimizer(learning_rate=0.01)\n",
    "optimize = optimizer.minimize(cost)"
   ]
  },
  {
   "cell_type": "code",
   "execution_count": 31,
   "metadata": {},
   "outputs": [
    {
     "data": {
      "text/plain": [
       "[<tf.Variable 'Variable:0' shape=(784, 256) dtype=float64>,\n",
       " <tf.Variable 'Variable_1:0' shape=(256, 256) dtype=float64>,\n",
       " <tf.Variable 'Variable_2:0' shape=(256, 10) dtype=float64>,\n",
       " <tf.Variable 'Variable_3:0' shape=(256,) dtype=float64>,\n",
       " <tf.Variable 'Variable_4:0' shape=(256,) dtype=float64>,\n",
       " <tf.Variable 'Variable_5:0' shape=(10,) dtype=float64>,\n",
       " <tf.Variable 'Variable_6:0' shape=(784, 256) dtype=float64>,\n",
       " <tf.Variable 'Variable_7:0' shape=(256, 256) dtype=float64>,\n",
       " <tf.Variable 'Variable_8:0' shape=(256, 10) dtype=float64>,\n",
       " <tf.Variable 'Variable_9:0' shape=(256,) dtype=float64>,\n",
       " <tf.Variable 'Variable_10:0' shape=(256,) dtype=float64>,\n",
       " <tf.Variable 'Variable_11:0' shape=(10,) dtype=float64>]"
      ]
     },
     "execution_count": 31,
     "metadata": {},
     "output_type": "execute_result"
    }
   ],
   "source": [
    "tf.compat.v1.trainable_variables()"
   ]
  },
  {
   "cell_type": "code",
   "execution_count": 50,
   "metadata": {},
   "outputs": [],
   "source": [
    "sess = tf.compat.v1.Session()\n",
    "\n",
    "sess.run(tf.compat.v1.global_variables_initializer())"
   ]
  },
  {
   "cell_type": "code",
   "execution_count": 63,
   "metadata": {},
   "outputs": [
    {
     "name": "stdout",
     "output_type": "stream",
     "text": [
      "5614.268824226974\n"
     ]
    },
    {
     "data": {
      "text/plain": [
       "<tf.Tensor 'ArgMax_8:0' shape=(52500,) dtype=int64>"
      ]
     },
     "execution_count": 63,
     "metadata": {},
     "output_type": "execute_result"
    }
   ],
   "source": [
    "for i in range(50):\n",
    "    c, _ = sess.run([cost, optimize])\n",
    "\n",
    "print(c)\n",
    "\n",
    "# tf.compat.v1.enable_eager_execution()\n",
    "\n",
    "train_pred = forward_propagation(x_train, weights, biases)\n",
    "\n",
    "train_predictions = tf.argmax(train_pred, axis=1)\n",
    "true_train_labels = tf.argmax(y_train, axis=1)\n",
    "\n",
    "train_predictions"
   ]
  },
  {
   "cell_type": "code",
   "execution_count": 64,
   "metadata": {},
   "outputs": [
    {
     "name": "stdout",
     "output_type": "stream",
     "text": [
      "[9 4 5 ... 2 2 8]\n"
     ]
    }
   ],
   "source": [
    "print(sess.run(train_predictions))"
   ]
  },
  {
   "cell_type": "code",
   "execution_count": 65,
   "metadata": {},
   "outputs": [
    {
     "data": {
      "text/plain": [
       "<tf.Operation 'PrintV2_8' type=PrintV2>"
      ]
     },
     "execution_count": 65,
     "metadata": {},
     "output_type": "execute_result"
    }
   ],
   "source": [
    "bool_correct_pred = sess.run(tf.equal(train_predictions, true_train_labels))\n",
    "\n",
    "tf.print(bool_correct_pred)\n",
    "\n",
    "tf.print(tf.reduce_sum(tf.cast(bool_correct_pred, tf.float32)))"
   ]
  },
  {
   "cell_type": "code",
   "execution_count": 66,
   "metadata": {},
   "outputs": [],
   "source": [
    "no_correct_pred = sess.run(tf.reduce_sum(tf.cast(bool_correct_pred, tf.float32)))"
   ]
  },
  {
   "cell_type": "code",
   "execution_count": 67,
   "metadata": {},
   "outputs": [
    {
     "data": {
      "text/plain": [
       "92.46857142857144"
      ]
     },
     "execution_count": 67,
     "metadata": {},
     "output_type": "execute_result"
    }
   ],
   "source": [
    "no_correct_pred/x_train.shape[0] * 100 # accuracy percent"
   ]
  },
  {
   "cell_type": "code",
   "execution_count": null,
   "metadata": {},
   "outputs": [],
   "source": []
  }
 ],
 "metadata": {
  "kernelspec": {
   "display_name": "Python 3",
   "language": "python",
   "name": "python3"
  },
  "language_info": {
   "codemirror_mode": {
    "name": "ipython",
    "version": 3
   },
   "file_extension": ".py",
   "mimetype": "text/x-python",
   "name": "python",
   "nbconvert_exporter": "python",
   "pygments_lexer": "ipython3",
   "version": "3.7.4"
  }
 },
 "nbformat": 4,
 "nbformat_minor": 4
}
